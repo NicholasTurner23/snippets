{
 "cells": [
  {
   "cell_type": "code",
   "execution_count": 1,
   "id": "67d7b5fc-f273-460f-a520-60372a11b632",
   "metadata": {
    "tags": []
   },
   "outputs": [],
   "source": [
    "import pandas as pd\n",
    "import numpy as np"
   ]
  },
  {
   "cell_type": "markdown",
   "id": "b54061ee-f403-41d4-8ee7-21436eb0a936",
   "metadata": {},
   "source": [
    "Please load \"cardio_base.csv\"\n",
    "This is a health dataset. Each row represents a person and corresponding attributes like age, height, weight, blood pressure, cholesterol level etc.\n",
    "When asked about age, please calculate with age in years rounded down."
   ]
  },
  {
   "cell_type": "markdown",
   "id": "36e5ee88-7e78-41a4-ade1-d8dbb1dde48b",
   "metadata": {},
   "source": [
    "1. How much heavier is the age group with the highest average weight than the age group with the lowest weight?\n",
    "2. Do people over 50 have higher cholesterol levels than the rest?\n",
    "3. Are men more likely to be a smoker than women?\n",
    "4. How tall are the tallest 1% of people?\n",
    "5. Which two features have the highest spearman rank correlation?\n",
    "6. What percentage of people are more than 2 standard deviations far from the average height?\n",
    "7. What percentage of the population over 50 years old consume alcohol? Ignore those persons, where we have no alcohol consumption information!\n",
    "8. Which of the following statements is true with 95% confidence?\n",
    "    - Smokers have higher blood presure than non-smokers\n",
    "    - Smokers have higher cholesterol level than non-smokers\n",
    "    - Smokers weight less than non smokers\n",
    "    - Men have higher blood pressure than women\n",
    "9. When did the difference in total number of confirmed cases between Italy and Germany become more than 10000?\n",
    "10. Look at the cumulative number of confirmed cases in Italy between 2020-02-28 and 2020-03-20. Fit an exponential function (y = Ae^(Bx)) to this set to express cumulative cases as a function of days passed, by minimizing squared loss. What is the difference between the exponential curve and the total number of real cases on 2020-03-20?\n",
    "11. Which country has the 3rd highest death rate? Death rate: total number of death per million inhabitants.\n",
    "12. What is the F1 score of the following statement: Countries, where more than 20% of the population is over 65 years old, have death rates over 50 per million inhabitants. Ignore countries, where any of the neccessary information is missing!\n",
    "13. What is the probability that a country has GDP over $10000, if we known that they have at least 5 hospital beds per 1000 inhabitants."
   ]
  },
  {
   "cell_type": "code",
   "execution_count": 2,
   "id": "4bfba9b9-b76d-4e7f-bc6a-feba601b45a4",
   "metadata": {
    "tags": []
   },
   "outputs": [],
   "source": [
    "cardio_b = pd.read_csv(\"cardio_base.csv\")"
   ]
  },
  {
   "cell_type": "code",
   "execution_count": 3,
   "id": "0f31187a-ae30-48d3-9ae2-be1dd48b55ae",
   "metadata": {
    "tags": []
   },
   "outputs": [
    {
     "data": {
      "text/html": [
       "<div>\n",
       "<style scoped>\n",
       "    .dataframe tbody tr th:only-of-type {\n",
       "        vertical-align: middle;\n",
       "    }\n",
       "\n",
       "    .dataframe tbody tr th {\n",
       "        vertical-align: top;\n",
       "    }\n",
       "\n",
       "    .dataframe thead th {\n",
       "        text-align: right;\n",
       "    }\n",
       "</style>\n",
       "<table border=\"1\" class=\"dataframe\">\n",
       "  <thead>\n",
       "    <tr style=\"text-align: right;\">\n",
       "      <th></th>\n",
       "      <th>id</th>\n",
       "      <th>age</th>\n",
       "      <th>gender</th>\n",
       "      <th>height</th>\n",
       "      <th>weight</th>\n",
       "      <th>ap_hi</th>\n",
       "      <th>ap_lo</th>\n",
       "      <th>cholesterol</th>\n",
       "      <th>smoke</th>\n",
       "    </tr>\n",
       "  </thead>\n",
       "  <tbody>\n",
       "    <tr>\n",
       "      <th>0</th>\n",
       "      <td>0</td>\n",
       "      <td>18393</td>\n",
       "      <td>2</td>\n",
       "      <td>168</td>\n",
       "      <td>62.0</td>\n",
       "      <td>110</td>\n",
       "      <td>80</td>\n",
       "      <td>1</td>\n",
       "      <td>0</td>\n",
       "    </tr>\n",
       "    <tr>\n",
       "      <th>1</th>\n",
       "      <td>1</td>\n",
       "      <td>20228</td>\n",
       "      <td>1</td>\n",
       "      <td>156</td>\n",
       "      <td>85.0</td>\n",
       "      <td>140</td>\n",
       "      <td>90</td>\n",
       "      <td>3</td>\n",
       "      <td>0</td>\n",
       "    </tr>\n",
       "    <tr>\n",
       "      <th>2</th>\n",
       "      <td>2</td>\n",
       "      <td>18857</td>\n",
       "      <td>1</td>\n",
       "      <td>165</td>\n",
       "      <td>64.0</td>\n",
       "      <td>130</td>\n",
       "      <td>70</td>\n",
       "      <td>3</td>\n",
       "      <td>0</td>\n",
       "    </tr>\n",
       "    <tr>\n",
       "      <th>3</th>\n",
       "      <td>3</td>\n",
       "      <td>17623</td>\n",
       "      <td>2</td>\n",
       "      <td>169</td>\n",
       "      <td>82.0</td>\n",
       "      <td>150</td>\n",
       "      <td>100</td>\n",
       "      <td>1</td>\n",
       "      <td>0</td>\n",
       "    </tr>\n",
       "    <tr>\n",
       "      <th>4</th>\n",
       "      <td>4</td>\n",
       "      <td>17474</td>\n",
       "      <td>1</td>\n",
       "      <td>156</td>\n",
       "      <td>56.0</td>\n",
       "      <td>100</td>\n",
       "      <td>60</td>\n",
       "      <td>1</td>\n",
       "      <td>0</td>\n",
       "    </tr>\n",
       "  </tbody>\n",
       "</table>\n",
       "</div>"
      ],
      "text/plain": [
       "   id    age  gender  height  weight  ap_hi  ap_lo  cholesterol  smoke\n",
       "0   0  18393       2     168    62.0    110     80            1      0\n",
       "1   1  20228       1     156    85.0    140     90            3      0\n",
       "2   2  18857       1     165    64.0    130     70            3      0\n",
       "3   3  17623       2     169    82.0    150    100            1      0\n",
       "4   4  17474       1     156    56.0    100     60            1      0"
      ]
     },
     "execution_count": 3,
     "metadata": {},
     "output_type": "execute_result"
    }
   ],
   "source": [
    "cardio_b.head()"
   ]
  },
  {
   "cell_type": "code",
   "execution_count": 7,
   "id": "5aca58fa-55d0-4e22-ac51-cf9fce783e67",
   "metadata": {
    "tags": []
   },
   "outputs": [
    {
     "data": {
      "text/html": [
       "<div>\n",
       "<style scoped>\n",
       "    .dataframe tbody tr th:only-of-type {\n",
       "        vertical-align: middle;\n",
       "    }\n",
       "\n",
       "    .dataframe tbody tr th {\n",
       "        vertical-align: top;\n",
       "    }\n",
       "\n",
       "    .dataframe thead th {\n",
       "        text-align: right;\n",
       "    }\n",
       "</style>\n",
       "<table border=\"1\" class=\"dataframe\">\n",
       "  <thead>\n",
       "    <tr style=\"text-align: right;\">\n",
       "      <th></th>\n",
       "      <th>id</th>\n",
       "      <th>age</th>\n",
       "      <th>gender</th>\n",
       "      <th>height</th>\n",
       "      <th>weight</th>\n",
       "      <th>ap_hi</th>\n",
       "      <th>ap_lo</th>\n",
       "      <th>cholesterol</th>\n",
       "      <th>smoke</th>\n",
       "      <th>years</th>\n",
       "    </tr>\n",
       "  </thead>\n",
       "  <tbody>\n",
       "    <tr>\n",
       "      <th>0</th>\n",
       "      <td>0</td>\n",
       "      <td>18393</td>\n",
       "      <td>2</td>\n",
       "      <td>168</td>\n",
       "      <td>62.0</td>\n",
       "      <td>110</td>\n",
       "      <td>80</td>\n",
       "      <td>1</td>\n",
       "      <td>0</td>\n",
       "      <td>50</td>\n",
       "    </tr>\n",
       "    <tr>\n",
       "      <th>1</th>\n",
       "      <td>1</td>\n",
       "      <td>20228</td>\n",
       "      <td>1</td>\n",
       "      <td>156</td>\n",
       "      <td>85.0</td>\n",
       "      <td>140</td>\n",
       "      <td>90</td>\n",
       "      <td>3</td>\n",
       "      <td>0</td>\n",
       "      <td>55</td>\n",
       "    </tr>\n",
       "    <tr>\n",
       "      <th>2</th>\n",
       "      <td>2</td>\n",
       "      <td>18857</td>\n",
       "      <td>1</td>\n",
       "      <td>165</td>\n",
       "      <td>64.0</td>\n",
       "      <td>130</td>\n",
       "      <td>70</td>\n",
       "      <td>3</td>\n",
       "      <td>0</td>\n",
       "      <td>51</td>\n",
       "    </tr>\n",
       "    <tr>\n",
       "      <th>3</th>\n",
       "      <td>3</td>\n",
       "      <td>17623</td>\n",
       "      <td>2</td>\n",
       "      <td>169</td>\n",
       "      <td>82.0</td>\n",
       "      <td>150</td>\n",
       "      <td>100</td>\n",
       "      <td>1</td>\n",
       "      <td>0</td>\n",
       "      <td>48</td>\n",
       "    </tr>\n",
       "    <tr>\n",
       "      <th>4</th>\n",
       "      <td>4</td>\n",
       "      <td>17474</td>\n",
       "      <td>1</td>\n",
       "      <td>156</td>\n",
       "      <td>56.0</td>\n",
       "      <td>100</td>\n",
       "      <td>60</td>\n",
       "      <td>1</td>\n",
       "      <td>0</td>\n",
       "      <td>47</td>\n",
       "    </tr>\n",
       "  </tbody>\n",
       "</table>\n",
       "</div>"
      ],
      "text/plain": [
       "   id    age  gender  height  weight  ap_hi  ap_lo  cholesterol  smoke  years\n",
       "0   0  18393       2     168    62.0    110     80            1      0     50\n",
       "1   1  20228       1     156    85.0    140     90            3      0     55\n",
       "2   2  18857       1     165    64.0    130     70            3      0     51\n",
       "3   3  17623       2     169    82.0    150    100            1      0     48\n",
       "4   4  17474       1     156    56.0    100     60            1      0     47"
      ]
     },
     "execution_count": 7,
     "metadata": {},
     "output_type": "execute_result"
    }
   ],
   "source": [
    "cardio_b['years'] = (cardio_b['age']/365).astype(int)\n",
    "cardio_b.head()"
   ]
  },
  {
   "cell_type": "markdown",
   "id": "b5c2f055-c1a6-447f-8b46-7406aaf053e1",
   "metadata": {},
   "source": [
    "1. How much heavier is the age group with the highest average weight than the age group with the lowest weight?"
   ]
  },
  {
   "cell_type": "code",
   "execution_count": 24,
   "id": "b700e4fd-0ef0-4876-8952-ce9af2ffc057",
   "metadata": {
    "tags": []
   },
   "outputs": [
    {
     "data": {
      "text/plain": [
       "0.2859952671226089"
      ]
     },
     "execution_count": 24,
     "metadata": {},
     "output_type": "execute_result"
    }
   ],
   "source": [
    "weightbyagegroupls = cardio_b.groupby('years')['weight'].mean()\n",
    "(weightbyagegroupls.max()/ weightbyagegroupls.min()) - 1"
   ]
  },
  {
   "cell_type": "markdown",
   "id": "952e766f-f4f8-4c82-8be3-1cae3dd2446b",
   "metadata": {},
   "source": [
    "2. Do people over 50 have higher cholesterol levels than the rest?"
   ]
  },
  {
   "cell_type": "code",
   "execution_count": 21,
   "id": "ab13ab7e-4e81-4c40-8828-8537be839785",
   "metadata": {
    "tags": []
   },
   "outputs": [
    {
     "data": {
      "text/plain": [
       "0.1951082506505808"
      ]
     },
     "execution_count": 21,
     "metadata": {},
     "output_type": "execute_result"
    }
   ],
   "source": [
    "avg_cholestrol_by_age = cardio_b.groupby('years')['cholesterol'].mean()\n",
    "(avg_cholestrol_by_age[avg_cholestrol_by_age.index > 50].mean()/avg_cholestrol_by_age[avg_cholestrol_by_age.index <= 50].mean())-1"
   ]
  },
  {
   "cell_type": "markdown",
   "id": "a54a9998-d01d-4083-8598-bb8b8d92f2f6",
   "metadata": {
    "tags": []
   },
   "source": [
    "3. Are men more likely to be a smoker than women?"
   ]
  },
  {
   "cell_type": "code",
   "execution_count": 25,
   "id": "7c21458a-e4d6-40d8-a2f4-3220f3cae55d",
   "metadata": {
    "tags": []
   },
   "outputs": [
    {
     "data": {
      "text/html": [
       "<div>\n",
       "<style scoped>\n",
       "    .dataframe tbody tr th:only-of-type {\n",
       "        vertical-align: middle;\n",
       "    }\n",
       "\n",
       "    .dataframe tbody tr th {\n",
       "        vertical-align: top;\n",
       "    }\n",
       "\n",
       "    .dataframe thead th {\n",
       "        text-align: right;\n",
       "    }\n",
       "</style>\n",
       "<table border=\"1\" class=\"dataframe\">\n",
       "  <thead>\n",
       "    <tr style=\"text-align: right;\">\n",
       "      <th></th>\n",
       "      <th>smoke</th>\n",
       "    </tr>\n",
       "    <tr>\n",
       "      <th>gender</th>\n",
       "      <th></th>\n",
       "    </tr>\n",
       "  </thead>\n",
       "  <tbody>\n",
       "    <tr>\n",
       "      <th>1</th>\n",
       "      <td>813</td>\n",
       "    </tr>\n",
       "    <tr>\n",
       "      <th>2</th>\n",
       "      <td>5356</td>\n",
       "    </tr>\n",
       "  </tbody>\n",
       "</table>\n",
       "</div>"
      ],
      "text/plain": [
       "        smoke\n",
       "gender       \n",
       "1         813\n",
       "2        5356"
      ]
     },
     "execution_count": 25,
     "metadata": {},
     "output_type": "execute_result"
    }
   ],
   "source": [
    "num_smoker_by_gender = cardio_b.groupby('gender').agg({'smoke': 'sum'})\n",
    "num_smoker_by_gender"
   ]
  },
  {
   "cell_type": "code",
   "execution_count": 31,
   "id": "c60c260c-4f8a-44f7-b9d8-d8d5d2854eb7",
   "metadata": {
    "tags": []
   },
   "outputs": [
    {
     "data": {
      "text/plain": [
       "6.587945879458794"
      ]
     },
     "execution_count": 31,
     "metadata": {},
     "output_type": "execute_result"
    }
   ],
   "source": [
    "num_smoker_by_gender[num_smoker_by_gender.index == 2]['smoke'].item() /  num_smoker_by_gender[num_smoker_by_gender.index == 1]['smoke'].item()"
   ]
  },
  {
   "cell_type": "markdown",
   "id": "48af0666-e44d-4ced-959e-981a2b5f3061",
   "metadata": {},
   "source": [
    "4. How tall are the tallest 1% of people?"
   ]
  },
  {
   "cell_type": "code",
   "execution_count": 34,
   "id": "7fba2156-2a1d-4186-af7c-0c6ab038dcad",
   "metadata": {
    "tags": []
   },
   "outputs": [
    {
     "data": {
      "text/plain": [
       "184.0"
      ]
     },
     "execution_count": 34,
     "metadata": {},
     "output_type": "execute_result"
    }
   ],
   "source": [
    "cardio_b['height'].quantile(0.99)"
   ]
  },
  {
   "cell_type": "markdown",
   "id": "da2342e6-ab91-4dd2-a08b-e0796bbc530e",
   "metadata": {},
   "source": [
    "5. Which two features have the highest spearman rank correlation?"
   ]
  },
  {
   "cell_type": "code",
   "execution_count": 36,
   "id": "af400bad-fbea-4cd7-88a0-685a666ded7b",
   "metadata": {
    "tags": []
   },
   "outputs": [
    {
     "data": {
      "image/png": "[encoded data removed]",
      "text/plain": [
       "<Figure size 2000x1000 with 2 Axes>"
      ]
     },
     "metadata": {},
     "output_type": "display_data"
    }
   ],
   "source": [
    "import seaborn as sns\n",
    "import matplotlib.pyplot as plt\n",
    "plt.figure(figsize=(20,10))\n",
    "corr = cardio_b.corr(method = 'spearman')\n",
    "sns.heatmap(corr, annot = True)\n",
    "plt.show()"
   ]
  },
  {
   "cell_type": "markdown",
   "id": "61e6263e-74d8-4c20-bfa4-af883b8937f5",
   "metadata": {},
   "source": [
    "6. What percentage of people are more than 2 standard deviations far from the average height?"
   ]
  },
  {
   "cell_type": "code",
   "execution_count": 49,
   "id": "8366e530-2cf2-4b35-86f0-3ebf617df086",
   "metadata": {
    "tags": []
   },
   "outputs": [
    {
     "data": {
      "text/plain": [
       "3.3357142857142854"
      ]
     },
     "execution_count": 49,
     "metadata": {},
     "output_type": "execute_result"
    }
   ],
   "source": [
    "height_avg = cardio_b.height.mean()\n",
    "height_std = cardio_b.height.std()\n",
    "len(cardio_b[abs(cardio_b.height - height_avg) > (2 * height_std)])/len(cardio_b.height)*100"
   ]
  },
  {
   "cell_type": "code",
   "execution_count": 44,
   "id": "114f592f-e581-4c9e-8d3f-2efa5e8989af",
   "metadata": {
    "tags": []
   },
   "outputs": [
    {
     "data": {
      "text/plain": [
       "164.35922857142856"
      ]
     },
     "execution_count": 44,
     "metadata": {},
     "output_type": "execute_result"
    }
   ],
   "source": [
    "height_std"
   ]
  },
  {
   "cell_type": "code",
   "execution_count": 43,
   "id": "fea27c7b-c372-4a73-b93e-9f44bd009248",
   "metadata": {
    "tags": []
   },
   "outputs": [
    {
     "data": {
      "text/plain": [
       "8.210126364538139"
      ]
     },
     "execution_count": 43,
     "metadata": {},
     "output_type": "execute_result"
    }
   ],
   "source": [
    "height_std"
   ]
  },
  {
   "cell_type": "markdown",
   "id": "12142dbf-413f-4551-af66-059188e4be64",
   "metadata": {},
   "source": [
    "7. What percentage of the population over 50 years old consume alcohol? Ignore those persons, where we have no alcohol consumption information!"
   ]
  },
  {
   "cell_type": "code",
   "execution_count": 61,
   "id": "64af14e3-ad39-4078-9978-06617f03758d",
   "metadata": {
    "tags": []
   },
   "outputs": [
    {
     "data": {
      "text/html": [
       "<div>\n",
       "<style scoped>\n",
       "    .dataframe tbody tr th:only-of-type {\n",
       "        vertical-align: middle;\n",
       "    }\n",
       "\n",
       "    .dataframe tbody tr th {\n",
       "        vertical-align: top;\n",
       "    }\n",
       "\n",
       "    .dataframe thead th {\n",
       "        text-align: right;\n",
       "    }\n",
       "</style>\n",
       "<table border=\"1\" class=\"dataframe\">\n",
       "  <thead>\n",
       "    <tr style=\"text-align: right;\">\n",
       "      <th></th>\n",
       "      <th>id</th>\n",
       "      <th>alco</th>\n",
       "    </tr>\n",
       "  </thead>\n",
       "  <tbody>\n",
       "    <tr>\n",
       "      <th>0</th>\n",
       "      <td>44</td>\n",
       "      <td>0</td>\n",
       "    </tr>\n",
       "    <tr>\n",
       "      <th>1</th>\n",
       "      <td>45</td>\n",
       "      <td>0</td>\n",
       "    </tr>\n",
       "    <tr>\n",
       "      <th>2</th>\n",
       "      <td>46</td>\n",
       "      <td>0</td>\n",
       "    </tr>\n",
       "    <tr>\n",
       "      <th>3</th>\n",
       "      <td>47</td>\n",
       "      <td>0</td>\n",
       "    </tr>\n",
       "    <tr>\n",
       "      <th>4</th>\n",
       "      <td>49</td>\n",
       "      <td>0</td>\n",
       "    </tr>\n",
       "  </tbody>\n",
       "</table>\n",
       "</div>"
      ],
      "text/plain": [
       "   id  alco\n",
       "0  44     0\n",
       "1  45     0\n",
       "2  46     0\n",
       "3  47     0\n",
       "4  49     0"
      ]
     },
     "execution_count": 61,
     "metadata": {},
     "output_type": "execute_result"
    }
   ],
   "source": [
    "cardio_alco_df = pd.read_csv('cardio_alco.csv', sep=\";\")\n",
    "cardio_alco_df.head()"
   ]
  },
  {
   "cell_type": "code",
   "execution_count": 62,
   "id": "4c349e97-ffe6-4245-9292-6798984360e4",
   "metadata": {
    "tags": []
   },
   "outputs": [
    {
     "data": {
      "text/html": [
       "<div>\n",
       "<style scoped>\n",
       "    .dataframe tbody tr th:only-of-type {\n",
       "        vertical-align: middle;\n",
       "    }\n",
       "\n",
       "    .dataframe tbody tr th {\n",
       "        vertical-align: top;\n",
       "    }\n",
       "\n",
       "    .dataframe thead th {\n",
       "        text-align: right;\n",
       "    }\n",
       "</style>\n",
       "<table border=\"1\" class=\"dataframe\">\n",
       "  <thead>\n",
       "    <tr style=\"text-align: right;\">\n",
       "      <th></th>\n",
       "      <th>id</th>\n",
       "      <th>age</th>\n",
       "      <th>gender</th>\n",
       "      <th>height</th>\n",
       "      <th>weight</th>\n",
       "      <th>ap_hi</th>\n",
       "      <th>ap_lo</th>\n",
       "      <th>cholesterol</th>\n",
       "      <th>smoke</th>\n",
       "      <th>years</th>\n",
       "      <th>alco</th>\n",
       "    </tr>\n",
       "  </thead>\n",
       "  <tbody>\n",
       "    <tr>\n",
       "      <th>0</th>\n",
       "      <td>44</td>\n",
       "      <td>14605</td>\n",
       "      <td>1</td>\n",
       "      <td>159</td>\n",
       "      <td>60.0</td>\n",
       "      <td>110</td>\n",
       "      <td>70</td>\n",
       "      <td>1</td>\n",
       "      <td>0</td>\n",
       "      <td>40</td>\n",
       "      <td>0</td>\n",
       "    </tr>\n",
       "    <tr>\n",
       "      <th>1</th>\n",
       "      <td>45</td>\n",
       "      <td>20652</td>\n",
       "      <td>1</td>\n",
       "      <td>160</td>\n",
       "      <td>73.0</td>\n",
       "      <td>130</td>\n",
       "      <td>85</td>\n",
       "      <td>1</td>\n",
       "      <td>0</td>\n",
       "      <td>56</td>\n",
       "      <td>0</td>\n",
       "    </tr>\n",
       "    <tr>\n",
       "      <th>2</th>\n",
       "      <td>46</td>\n",
       "      <td>21940</td>\n",
       "      <td>2</td>\n",
       "      <td>173</td>\n",
       "      <td>82.0</td>\n",
       "      <td>140</td>\n",
       "      <td>90</td>\n",
       "      <td>3</td>\n",
       "      <td>0</td>\n",
       "      <td>60</td>\n",
       "      <td>0</td>\n",
       "    </tr>\n",
       "    <tr>\n",
       "      <th>3</th>\n",
       "      <td>47</td>\n",
       "      <td>20404</td>\n",
       "      <td>1</td>\n",
       "      <td>163</td>\n",
       "      <td>55.0</td>\n",
       "      <td>120</td>\n",
       "      <td>80</td>\n",
       "      <td>1</td>\n",
       "      <td>0</td>\n",
       "      <td>55</td>\n",
       "      <td>0</td>\n",
       "    </tr>\n",
       "    <tr>\n",
       "      <th>4</th>\n",
       "      <td>49</td>\n",
       "      <td>18328</td>\n",
       "      <td>2</td>\n",
       "      <td>175</td>\n",
       "      <td>95.0</td>\n",
       "      <td>120</td>\n",
       "      <td>80</td>\n",
       "      <td>1</td>\n",
       "      <td>0</td>\n",
       "      <td>50</td>\n",
       "      <td>0</td>\n",
       "    </tr>\n",
       "  </tbody>\n",
       "</table>\n",
       "</div>"
      ],
      "text/plain": [
       "   id    age  gender  height  weight  ap_hi  ap_lo  cholesterol  smoke  years  \\\n",
       "0  44  14605       1     159    60.0    110     70            1      0     40   \n",
       "1  45  20652       1     160    73.0    130     85            1      0     56   \n",
       "2  46  21940       2     173    82.0    140     90            3      0     60   \n",
       "3  47  20404       1     163    55.0    120     80            1      0     55   \n",
       "4  49  18328       2     175    95.0    120     80            1      0     50   \n",
       "\n",
       "   alco  \n",
       "0     0  \n",
       "1     0  \n",
       "2     0  \n",
       "3     0  \n",
       "4     0  "
      ]
     },
     "execution_count": 62,
     "metadata": {},
     "output_type": "execute_result"
    }
   ],
   "source": [
    "cardio_b_a = pd.merge(cardio_b, cardio_alco_df, on='id')\n",
    "cardio_b_a.head()"
   ]
  },
  {
   "cell_type": "code",
   "execution_count": 64,
   "id": "81535fd1-3d39-4484-a5b4-9b26e6e3657d",
   "metadata": {
    "tags": []
   },
   "outputs": [
    {
     "data": {
      "text/plain": [
       "4.908607691056028"
      ]
     },
     "execution_count": 64,
     "metadata": {},
     "output_type": "execute_result"
    }
   ],
   "source": [
    "cardio_over_50_df = cardio_b_a[cardio_b_a['years'] > 50]\n",
    "len(cardio_over_50_df[cardio_over_50_df['alco'] == 1])/len(cardio_over_50_df)*100"
   ]
  },
  {
   "cell_type": "markdown",
   "id": "3afe83aa-8d6b-4a7c-bec9-af4e4b78244d",
   "metadata": {},
   "source": [
    "8. Which of the following statements is true with 95% confidence?\n",
    "    - Smokers have higher blood presure than non-smokers\n",
    "    - Smokers have higher cholesterol level than non-smokers\n",
    "    - Smokers weight less than non smokers\n",
    "    - Men have higher blood pressure than women"
   ]
  },
  {
   "cell_type": "code",
   "execution_count": 65,
   "id": "e9ee67d4-129b-48b6-b4f1-9d45d95cb650",
   "metadata": {
    "tags": []
   },
   "outputs": [
    {
     "data": {
      "text/html": [
       "<div>\n",
       "<style scoped>\n",
       "    .dataframe tbody tr th:only-of-type {\n",
       "        vertical-align: middle;\n",
       "    }\n",
       "\n",
       "    .dataframe tbody tr th {\n",
       "        vertical-align: top;\n",
       "    }\n",
       "\n",
       "    .dataframe thead th {\n",
       "        text-align: right;\n",
       "    }\n",
       "</style>\n",
       "<table border=\"1\" class=\"dataframe\">\n",
       "  <thead>\n",
       "    <tr style=\"text-align: right;\">\n",
       "      <th></th>\n",
       "      <th>id</th>\n",
       "      <th>age</th>\n",
       "      <th>gender</th>\n",
       "      <th>height</th>\n",
       "      <th>weight</th>\n",
       "      <th>ap_hi</th>\n",
       "      <th>ap_lo</th>\n",
       "      <th>cholesterol</th>\n",
       "      <th>smoke</th>\n",
       "      <th>years</th>\n",
       "      <th>alco</th>\n",
       "      <th>ap_mean</th>\n",
       "    </tr>\n",
       "  </thead>\n",
       "  <tbody>\n",
       "    <tr>\n",
       "      <th>0</th>\n",
       "      <td>44</td>\n",
       "      <td>14605</td>\n",
       "      <td>1</td>\n",
       "      <td>159</td>\n",
       "      <td>60.0</td>\n",
       "      <td>110</td>\n",
       "      <td>70</td>\n",
       "      <td>1</td>\n",
       "      <td>0</td>\n",
       "      <td>40</td>\n",
       "      <td>0</td>\n",
       "      <td>90.0</td>\n",
       "    </tr>\n",
       "    <tr>\n",
       "      <th>1</th>\n",
       "      <td>45</td>\n",
       "      <td>20652</td>\n",
       "      <td>1</td>\n",
       "      <td>160</td>\n",
       "      <td>73.0</td>\n",
       "      <td>130</td>\n",
       "      <td>85</td>\n",
       "      <td>1</td>\n",
       "      <td>0</td>\n",
       "      <td>56</td>\n",
       "      <td>0</td>\n",
       "      <td>107.5</td>\n",
       "    </tr>\n",
       "    <tr>\n",
       "      <th>2</th>\n",
       "      <td>46</td>\n",
       "      <td>21940</td>\n",
       "      <td>2</td>\n",
       "      <td>173</td>\n",
       "      <td>82.0</td>\n",
       "      <td>140</td>\n",
       "      <td>90</td>\n",
       "      <td>3</td>\n",
       "      <td>0</td>\n",
       "      <td>60</td>\n",
       "      <td>0</td>\n",
       "      <td>115.0</td>\n",
       "    </tr>\n",
       "    <tr>\n",
       "      <th>3</th>\n",
       "      <td>47</td>\n",
       "      <td>20404</td>\n",
       "      <td>1</td>\n",
       "      <td>163</td>\n",
       "      <td>55.0</td>\n",
       "      <td>120</td>\n",
       "      <td>80</td>\n",
       "      <td>1</td>\n",
       "      <td>0</td>\n",
       "      <td>55</td>\n",
       "      <td>0</td>\n",
       "      <td>100.0</td>\n",
       "    </tr>\n",
       "    <tr>\n",
       "      <th>4</th>\n",
       "      <td>49</td>\n",
       "      <td>18328</td>\n",
       "      <td>2</td>\n",
       "      <td>175</td>\n",
       "      <td>95.0</td>\n",
       "      <td>120</td>\n",
       "      <td>80</td>\n",
       "      <td>1</td>\n",
       "      <td>0</td>\n",
       "      <td>50</td>\n",
       "      <td>0</td>\n",
       "      <td>100.0</td>\n",
       "    </tr>\n",
       "  </tbody>\n",
       "</table>\n",
       "</div>"
      ],
      "text/plain": [
       "   id    age  gender  height  weight  ap_hi  ap_lo  cholesterol  smoke  years  \\\n",
       "0  44  14605       1     159    60.0    110     70            1      0     40   \n",
       "1  45  20652       1     160    73.0    130     85            1      0     56   \n",
       "2  46  21940       2     173    82.0    140     90            3      0     60   \n",
       "3  47  20404       1     163    55.0    120     80            1      0     55   \n",
       "4  49  18328       2     175    95.0    120     80            1      0     50   \n",
       "\n",
       "   alco  ap_mean  \n",
       "0     0     90.0  \n",
       "1     0    107.5  \n",
       "2     0    115.0  \n",
       "3     0    100.0  \n",
       "4     0    100.0  "
      ]
     },
     "execution_count": 65,
     "metadata": {},
     "output_type": "execute_result"
    }
   ],
   "source": [
    "cardio_b_a['ap_mean'] = (cardio_b_a['ap_hi'] + cardio_b_a['ap_lo']) / 2\n",
    "cardio_b_a.head()"
   ]
  },
  {
   "cell_type": "code",
   "execution_count": 67,
   "id": "0123992b-eec3-478e-a15b-2a6f120b0806",
   "metadata": {
    "tags": []
   },
   "outputs": [
    {
     "data": {
      "text/html": [
       "<div>\n",
       "<style scoped>\n",
       "    .dataframe tbody tr th:only-of-type {\n",
       "        vertical-align: middle;\n",
       "    }\n",
       "\n",
       "    .dataframe tbody tr th {\n",
       "        vertical-align: top;\n",
       "    }\n",
       "\n",
       "    .dataframe thead th {\n",
       "        text-align: right;\n",
       "    }\n",
       "</style>\n",
       "<table border=\"1\" class=\"dataframe\">\n",
       "  <thead>\n",
       "    <tr style=\"text-align: right;\">\n",
       "      <th></th>\n",
       "      <th>mean</th>\n",
       "      <th>sem</th>\n",
       "      <th>ci95_hi</th>\n",
       "      <th>ci95_lo</th>\n",
       "    </tr>\n",
       "    <tr>\n",
       "      <th>smoke</th>\n",
       "      <th></th>\n",
       "      <th></th>\n",
       "      <th></th>\n",
       "      <th></th>\n",
       "    </tr>\n",
       "  </thead>\n",
       "  <tbody>\n",
       "    <tr>\n",
       "      <th>0</th>\n",
       "      <td>112.851959</td>\n",
       "      <td>0.562122</td>\n",
       "      <td>113.953718</td>\n",
       "      <td>111.750200</td>\n",
       "    </tr>\n",
       "    <tr>\n",
       "      <th>1</th>\n",
       "      <td>113.139016</td>\n",
       "      <td>1.241633</td>\n",
       "      <td>115.572617</td>\n",
       "      <td>110.705415</td>\n",
       "    </tr>\n",
       "  </tbody>\n",
       "</table>\n",
       "</div>"
      ],
      "text/plain": [
       "             mean       sem     ci95_hi     ci95_lo\n",
       "smoke                                              \n",
       "0      112.851959  0.562122  113.953718  111.750200\n",
       "1      113.139016  1.241633  115.572617  110.705415"
      ]
     },
     "execution_count": 67,
     "metadata": {},
     "output_type": "execute_result"
    }
   ],
   "source": [
    "stat_ap_mean_by_smoke_df = cardio_b_a.groupby('smoke')['ap_mean'].agg(['mean', 'sem'])\n",
    "stat_ap_mean_by_smoke_df['ci95_hi'] = stat_ap_mean_by_smoke_df['mean'] + 1.96 * stat_ap_mean_by_smoke_df['sem']\n",
    "stat_ap_mean_by_smoke_df['ci95_lo'] = stat_ap_mean_by_smoke_df['mean'] - 1.96 * stat_ap_mean_by_smoke_df['sem']\n",
    "stat_ap_mean_by_smoke_df"
   ]
  },
  {
   "cell_type": "code",
   "execution_count": 69,
   "id": "0cfbde59-e1d7-441d-8624-4e23f25dca52",
   "metadata": {
    "tags": []
   },
   "outputs": [
    {
     "data": {
      "text/html": [
       "<div>\n",
       "<style scoped>\n",
       "    .dataframe tbody tr th:only-of-type {\n",
       "        vertical-align: middle;\n",
       "    }\n",
       "\n",
       "    .dataframe tbody tr th {\n",
       "        vertical-align: top;\n",
       "    }\n",
       "\n",
       "    .dataframe thead th {\n",
       "        text-align: right;\n",
       "    }\n",
       "</style>\n",
       "<table border=\"1\" class=\"dataframe\">\n",
       "  <thead>\n",
       "    <tr style=\"text-align: right;\">\n",
       "      <th></th>\n",
       "      <th>mean</th>\n",
       "      <th>sem</th>\n",
       "      <th>ci95_hi</th>\n",
       "      <th>ci95_lo</th>\n",
       "    </tr>\n",
       "    <tr>\n",
       "      <th>smoke</th>\n",
       "      <th></th>\n",
       "      <th></th>\n",
       "      <th></th>\n",
       "      <th></th>\n",
       "    </tr>\n",
       "  </thead>\n",
       "  <tbody>\n",
       "    <tr>\n",
       "      <th>0</th>\n",
       "      <td>1.365668</td>\n",
       "      <td>0.002989</td>\n",
       "      <td>1.371526</td>\n",
       "      <td>1.359810</td>\n",
       "    </tr>\n",
       "    <tr>\n",
       "      <th>1</th>\n",
       "      <td>1.390554</td>\n",
       "      <td>0.009616</td>\n",
       "      <td>1.409401</td>\n",
       "      <td>1.371706</td>\n",
       "    </tr>\n",
       "  </tbody>\n",
       "</table>\n",
       "</div>"
      ],
      "text/plain": [
       "           mean       sem   ci95_hi   ci95_lo\n",
       "smoke                                        \n",
       "0      1.365668  0.002989  1.371526  1.359810\n",
       "1      1.390554  0.009616  1.409401  1.371706"
      ]
     },
     "execution_count": 69,
     "metadata": {},
     "output_type": "execute_result"
    }
   ],
   "source": [
    "stat_cholesterol_by_smoke_df = cardio_b_a.groupby('smoke')['cholesterol'].agg(['mean', 'sem'])\n",
    "stat_cholesterol_by_smoke_df['ci95_hi'] = stat_cholesterol_by_smoke_df['mean'] + 1.96 * stat_cholesterol_by_smoke_df['sem']\n",
    "stat_cholesterol_by_smoke_df['ci95_lo'] = stat_cholesterol_by_smoke_df['mean'] - 1.96 * stat_cholesterol_by_smoke_df['sem']\n",
    "stat_cholesterol_by_smoke_df"
   ]
  },
  {
   "cell_type": "code",
   "execution_count": 70,
   "id": "1ba88fee-e110-478a-8e3d-b1fd0cf237b8",
   "metadata": {
    "tags": []
   },
   "outputs": [
    {
     "data": {
      "text/html": [
       "<div>\n",
       "<style scoped>\n",
       "    .dataframe tbody tr th:only-of-type {\n",
       "        vertical-align: middle;\n",
       "    }\n",
       "\n",
       "    .dataframe tbody tr th {\n",
       "        vertical-align: top;\n",
       "    }\n",
       "\n",
       "    .dataframe thead th {\n",
       "        text-align: right;\n",
       "    }\n",
       "</style>\n",
       "<table border=\"1\" class=\"dataframe\">\n",
       "  <thead>\n",
       "    <tr style=\"text-align: right;\">\n",
       "      <th></th>\n",
       "      <th>mean</th>\n",
       "      <th>sem</th>\n",
       "      <th>ci95_hi</th>\n",
       "      <th>ci95_lo</th>\n",
       "    </tr>\n",
       "    <tr>\n",
       "      <th>smoke</th>\n",
       "      <th></th>\n",
       "      <th></th>\n",
       "      <th></th>\n",
       "      <th></th>\n",
       "    </tr>\n",
       "  </thead>\n",
       "  <tbody>\n",
       "    <tr>\n",
       "      <th>0</th>\n",
       "      <td>73.853289</td>\n",
       "      <td>0.062684</td>\n",
       "      <td>73.976150</td>\n",
       "      <td>73.730429</td>\n",
       "    </tr>\n",
       "    <tr>\n",
       "      <th>1</th>\n",
       "      <td>77.356142</td>\n",
       "      <td>0.212276</td>\n",
       "      <td>77.772203</td>\n",
       "      <td>76.940081</td>\n",
       "    </tr>\n",
       "  </tbody>\n",
       "</table>\n",
       "</div>"
      ],
      "text/plain": [
       "            mean       sem    ci95_hi    ci95_lo\n",
       "smoke                                           \n",
       "0      73.853289  0.062684  73.976150  73.730429\n",
       "1      77.356142  0.212276  77.772203  76.940081"
      ]
     },
     "execution_count": 70,
     "metadata": {},
     "output_type": "execute_result"
    }
   ],
   "source": [
    "stat_weight_by_smoke_df = cardio_b_a.groupby('smoke')['weight'].agg(['mean', 'sem'])\n",
    "stat_weight_by_smoke_df['ci95_hi'] = stat_weight_by_smoke_df['mean'] + 1.96 * stat_weight_by_smoke_df['sem']\n",
    "stat_weight_by_smoke_df['ci95_lo'] = stat_weight_by_smoke_df['mean'] - 1.96 * stat_weight_by_smoke_df['sem']\n",
    "stat_weight_by_smoke_df"
   ]
  },
  {
   "cell_type": "code",
   "execution_count": 71,
   "id": "5a51a125-a5b5-4bd8-9f7a-cb7210e6aacb",
   "metadata": {
    "tags": []
   },
   "outputs": [
    {
     "data": {
      "text/html": [
       "<div>\n",
       "<style scoped>\n",
       "    .dataframe tbody tr th:only-of-type {\n",
       "        vertical-align: middle;\n",
       "    }\n",
       "\n",
       "    .dataframe tbody tr th {\n",
       "        vertical-align: top;\n",
       "    }\n",
       "\n",
       "    .dataframe thead th {\n",
       "        text-align: right;\n",
       "    }\n",
       "</style>\n",
       "<table border=\"1\" class=\"dataframe\">\n",
       "  <thead>\n",
       "    <tr style=\"text-align: right;\">\n",
       "      <th></th>\n",
       "      <th>mean</th>\n",
       "      <th>sem</th>\n",
       "      <th>ci95_hi</th>\n",
       "      <th>ci95_lo</th>\n",
       "    </tr>\n",
       "    <tr>\n",
       "      <th>gender</th>\n",
       "      <th></th>\n",
       "      <th></th>\n",
       "      <th></th>\n",
       "      <th></th>\n",
       "    </tr>\n",
       "  </thead>\n",
       "  <tbody>\n",
       "    <tr>\n",
       "      <th>1</th>\n",
       "      <td>111.749641</td>\n",
       "      <td>0.636337</td>\n",
       "      <td>112.996862</td>\n",
       "      <td>110.502421</td>\n",
       "    </tr>\n",
       "    <tr>\n",
       "      <th>2</th>\n",
       "      <td>114.965621</td>\n",
       "      <td>0.918838</td>\n",
       "      <td>116.766543</td>\n",
       "      <td>113.164699</td>\n",
       "    </tr>\n",
       "  </tbody>\n",
       "</table>\n",
       "</div>"
      ],
      "text/plain": [
       "              mean       sem     ci95_hi     ci95_lo\n",
       "gender                                              \n",
       "1       111.749641  0.636337  112.996862  110.502421\n",
       "2       114.965621  0.918838  116.766543  113.164699"
      ]
     },
     "execution_count": 71,
     "metadata": {},
     "output_type": "execute_result"
    }
   ],
   "source": [
    "stat_ap_mean_by_gender_df = cardio_b_a.groupby('gender')['ap_mean'].agg(['mean', 'sem'])\n",
    "stat_ap_mean_by_gender_df['ci95_hi'] = stat_ap_mean_by_gender_df['mean'] + 1.96 * stat_ap_mean_by_gender_df['sem']\n",
    "stat_ap_mean_by_gender_df['ci95_lo'] = stat_ap_mean_by_gender_df['mean'] - 1.96 * stat_ap_mean_by_gender_df['sem']\n",
    "stat_ap_mean_by_gender_df"
   ]
  },
  {
   "cell_type": "code",
   "execution_count": 75,
   "id": "5c6a10bc-8950-490e-b0f0-7be84ea3aa2f",
   "metadata": {
    "tags": []
   },
   "outputs": [
    {
     "data": {
      "text/html": [
       "<div>\n",
       "<style scoped>\n",
       "    .dataframe tbody tr th:only-of-type {\n",
       "        vertical-align: middle;\n",
       "    }\n",
       "\n",
       "    .dataframe tbody tr th {\n",
       "        vertical-align: top;\n",
       "    }\n",
       "\n",
       "    .dataframe thead th {\n",
       "        text-align: right;\n",
       "    }\n",
       "</style>\n",
       "<table border=\"1\" class=\"dataframe\">\n",
       "  <thead>\n",
       "    <tr style=\"text-align: right;\">\n",
       "      <th></th>\n",
       "      <th>location</th>\n",
       "      <th>date</th>\n",
       "      <th>new_cases</th>\n",
       "      <th>new_deaths</th>\n",
       "      <th>population</th>\n",
       "      <th>aged_65_older_percent</th>\n",
       "      <th>gdp_per_capita</th>\n",
       "      <th>hospital_beds_per_thousand</th>\n",
       "    </tr>\n",
       "  </thead>\n",
       "  <tbody>\n",
       "    <tr>\n",
       "      <th>0</th>\n",
       "      <td>Afghanistan</td>\n",
       "      <td>2019-12-31</td>\n",
       "      <td>0</td>\n",
       "      <td>0</td>\n",
       "      <td>38928341.0</td>\n",
       "      <td>2.581</td>\n",
       "      <td>1803.987</td>\n",
       "      <td>0.5</td>\n",
       "    </tr>\n",
       "    <tr>\n",
       "      <th>1</th>\n",
       "      <td>Afghanistan</td>\n",
       "      <td>2020-01-01</td>\n",
       "      <td>0</td>\n",
       "      <td>0</td>\n",
       "      <td>38928341.0</td>\n",
       "      <td>2.581</td>\n",
       "      <td>1803.987</td>\n",
       "      <td>0.5</td>\n",
       "    </tr>\n",
       "    <tr>\n",
       "      <th>2</th>\n",
       "      <td>Afghanistan</td>\n",
       "      <td>2020-01-02</td>\n",
       "      <td>0</td>\n",
       "      <td>0</td>\n",
       "      <td>38928341.0</td>\n",
       "      <td>2.581</td>\n",
       "      <td>1803.987</td>\n",
       "      <td>0.5</td>\n",
       "    </tr>\n",
       "    <tr>\n",
       "      <th>3</th>\n",
       "      <td>Afghanistan</td>\n",
       "      <td>2020-01-03</td>\n",
       "      <td>0</td>\n",
       "      <td>0</td>\n",
       "      <td>38928341.0</td>\n",
       "      <td>2.581</td>\n",
       "      <td>1803.987</td>\n",
       "      <td>0.5</td>\n",
       "    </tr>\n",
       "    <tr>\n",
       "      <th>4</th>\n",
       "      <td>Afghanistan</td>\n",
       "      <td>2020-01-04</td>\n",
       "      <td>0</td>\n",
       "      <td>0</td>\n",
       "      <td>38928341.0</td>\n",
       "      <td>2.581</td>\n",
       "      <td>1803.987</td>\n",
       "      <td>0.5</td>\n",
       "    </tr>\n",
       "  </tbody>\n",
       "</table>\n",
       "</div>"
      ],
      "text/plain": [
       "      location       date  new_cases  new_deaths  population  \\\n",
       "0  Afghanistan 2019-12-31          0           0  38928341.0   \n",
       "1  Afghanistan 2020-01-01          0           0  38928341.0   \n",
       "2  Afghanistan 2020-01-02          0           0  38928341.0   \n",
       "3  Afghanistan 2020-01-03          0           0  38928341.0   \n",
       "4  Afghanistan 2020-01-04          0           0  38928341.0   \n",
       "\n",
       "   aged_65_older_percent  gdp_per_capita  hospital_beds_per_thousand  \n",
       "0                  2.581        1803.987                         0.5  \n",
       "1                  2.581        1803.987                         0.5  \n",
       "2                  2.581        1803.987                         0.5  \n",
       "3                  2.581        1803.987                         0.5  \n",
       "4                  2.581        1803.987                         0.5  "
      ]
     },
     "execution_count": 75,
     "metadata": {},
     "output_type": "execute_result"
    }
   ],
   "source": [
    "covid = pd.read_csv('covid_data.csv')\n",
    "covid['date'] = pd.to_datetime(covid.date)\n",
    "covid.head()"
   ]
  },
  {
   "cell_type": "markdown",
   "id": "ee743f65-c363-402c-aa77-80005d79deb2",
   "metadata": {},
   "source": [
    "9. When did the difference in total number of confirmed cases between Italy and Germany become more than 10000?"
   ]
  },
  {
   "cell_type": "code",
   "execution_count": 77,
   "id": "863005bc-fbb8-44d7-a063-c92198b389b3",
   "metadata": {
    "tags": []
   },
   "outputs": [
    {
     "name": "stderr",
     "output_type": "stream",
     "text": [
      "C:\\Users\\HITMAN1337X\\AppData\\Local\\Temp\\ipykernel_12204\\4170911220.py:4: SettingWithCopyWarning: \n",
      "A value is trying to be set on a copy of a slice from a DataFrame.\n",
      "Try using .loc[row_indexer,col_indexer] = value instead\n",
      "\n",
      "See the caveats in the documentation: https://pandas.pydata.org/pandas-docs/stable/user_guide/indexing.html#returning-a-view-versus-a-copy\n",
      "  germany_covid_df[\"cumsum\"] = germany_covid_df.new_cases.cumsum()\n",
      "C:\\Users\\HITMAN1337X\\AppData\\Local\\Temp\\ipykernel_12204\\4170911220.py:5: SettingWithCopyWarning: \n",
      "A value is trying to be set on a copy of a slice from a DataFrame.\n",
      "Try using .loc[row_indexer,col_indexer] = value instead\n",
      "\n",
      "See the caveats in the documentation: https://pandas.pydata.org/pandas-docs/stable/user_guide/indexing.html#returning-a-view-versus-a-copy\n",
      "  italy_covid_df[\"cumsum\"] = italy_covid_df.new_cases.cumsum()\n"
     ]
    },
    {
     "data": {
      "text/html": [
       "<div>\n",
       "<style scoped>\n",
       "    .dataframe tbody tr th:only-of-type {\n",
       "        vertical-align: middle;\n",
       "    }\n",
       "\n",
       "    .dataframe tbody tr th {\n",
       "        vertical-align: top;\n",
       "    }\n",
       "\n",
       "    .dataframe thead th {\n",
       "        text-align: right;\n",
       "    }\n",
       "</style>\n",
       "<table border=\"1\" class=\"dataframe\">\n",
       "  <thead>\n",
       "    <tr style=\"text-align: right;\">\n",
       "      <th></th>\n",
       "      <th>location_x</th>\n",
       "      <th>date</th>\n",
       "      <th>new_cases_x</th>\n",
       "      <th>new_deaths_x</th>\n",
       "      <th>population_x</th>\n",
       "      <th>aged_65_older_percent_x</th>\n",
       "      <th>gdp_per_capita_x</th>\n",
       "      <th>hospital_beds_per_thousand_x</th>\n",
       "      <th>cumsum_x</th>\n",
       "      <th>location_y</th>\n",
       "      <th>new_cases_y</th>\n",
       "      <th>new_deaths_y</th>\n",
       "      <th>population_y</th>\n",
       "      <th>aged_65_older_percent_y</th>\n",
       "      <th>gdp_per_capita_y</th>\n",
       "      <th>hospital_beds_per_thousand_y</th>\n",
       "      <th>cumsum_y</th>\n",
       "    </tr>\n",
       "  </thead>\n",
       "  <tbody>\n",
       "    <tr>\n",
       "      <th>0</th>\n",
       "      <td>Germany</td>\n",
       "      <td>2019-12-31</td>\n",
       "      <td>0</td>\n",
       "      <td>0</td>\n",
       "      <td>83783945.0</td>\n",
       "      <td>21.453</td>\n",
       "      <td>45229.245</td>\n",
       "      <td>8.0</td>\n",
       "      <td>0</td>\n",
       "      <td>Italy</td>\n",
       "      <td>0</td>\n",
       "      <td>0</td>\n",
       "      <td>60461828.0</td>\n",
       "      <td>23.021</td>\n",
       "      <td>35220.084</td>\n",
       "      <td>3.18</td>\n",
       "      <td>0</td>\n",
       "    </tr>\n",
       "    <tr>\n",
       "      <th>1</th>\n",
       "      <td>Germany</td>\n",
       "      <td>2020-01-01</td>\n",
       "      <td>0</td>\n",
       "      <td>0</td>\n",
       "      <td>83783945.0</td>\n",
       "      <td>21.453</td>\n",
       "      <td>45229.245</td>\n",
       "      <td>8.0</td>\n",
       "      <td>0</td>\n",
       "      <td>Italy</td>\n",
       "      <td>0</td>\n",
       "      <td>0</td>\n",
       "      <td>60461828.0</td>\n",
       "      <td>23.021</td>\n",
       "      <td>35220.084</td>\n",
       "      <td>3.18</td>\n",
       "      <td>0</td>\n",
       "    </tr>\n",
       "    <tr>\n",
       "      <th>2</th>\n",
       "      <td>Germany</td>\n",
       "      <td>2020-01-02</td>\n",
       "      <td>0</td>\n",
       "      <td>0</td>\n",
       "      <td>83783945.0</td>\n",
       "      <td>21.453</td>\n",
       "      <td>45229.245</td>\n",
       "      <td>8.0</td>\n",
       "      <td>0</td>\n",
       "      <td>Italy</td>\n",
       "      <td>0</td>\n",
       "      <td>0</td>\n",
       "      <td>60461828.0</td>\n",
       "      <td>23.021</td>\n",
       "      <td>35220.084</td>\n",
       "      <td>3.18</td>\n",
       "      <td>0</td>\n",
       "    </tr>\n",
       "    <tr>\n",
       "      <th>3</th>\n",
       "      <td>Germany</td>\n",
       "      <td>2020-01-03</td>\n",
       "      <td>0</td>\n",
       "      <td>0</td>\n",
       "      <td>83783945.0</td>\n",
       "      <td>21.453</td>\n",
       "      <td>45229.245</td>\n",
       "      <td>8.0</td>\n",
       "      <td>0</td>\n",
       "      <td>Italy</td>\n",
       "      <td>0</td>\n",
       "      <td>0</td>\n",
       "      <td>60461828.0</td>\n",
       "      <td>23.021</td>\n",
       "      <td>35220.084</td>\n",
       "      <td>3.18</td>\n",
       "      <td>0</td>\n",
       "    </tr>\n",
       "    <tr>\n",
       "      <th>4</th>\n",
       "      <td>Germany</td>\n",
       "      <td>2020-01-04</td>\n",
       "      <td>0</td>\n",
       "      <td>0</td>\n",
       "      <td>83783945.0</td>\n",
       "      <td>21.453</td>\n",
       "      <td>45229.245</td>\n",
       "      <td>8.0</td>\n",
       "      <td>0</td>\n",
       "      <td>Italy</td>\n",
       "      <td>0</td>\n",
       "      <td>0</td>\n",
       "      <td>60461828.0</td>\n",
       "      <td>23.021</td>\n",
       "      <td>35220.084</td>\n",
       "      <td>3.18</td>\n",
       "      <td>0</td>\n",
       "    </tr>\n",
       "    <tr>\n",
       "      <th>...</th>\n",
       "      <td>...</td>\n",
       "      <td>...</td>\n",
       "      <td>...</td>\n",
       "      <td>...</td>\n",
       "      <td>...</td>\n",
       "      <td>...</td>\n",
       "      <td>...</td>\n",
       "      <td>...</td>\n",
       "      <td>...</td>\n",
       "      <td>...</td>\n",
       "      <td>...</td>\n",
       "      <td>...</td>\n",
       "      <td>...</td>\n",
       "      <td>...</td>\n",
       "      <td>...</td>\n",
       "      <td>...</td>\n",
       "      <td>...</td>\n",
       "    </tr>\n",
       "    <tr>\n",
       "      <th>158</th>\n",
       "      <td>Germany</td>\n",
       "      <td>2020-06-06</td>\n",
       "      <td>407</td>\n",
       "      <td>33</td>\n",
       "      <td>83783945.0</td>\n",
       "      <td>21.453</td>\n",
       "      <td>45229.245</td>\n",
       "      <td>8.0</td>\n",
       "      <td>183678</td>\n",
       "      <td>Italy</td>\n",
       "      <td>518</td>\n",
       "      <td>85</td>\n",
       "      <td>60461828.0</td>\n",
       "      <td>23.021</td>\n",
       "      <td>35220.084</td>\n",
       "      <td>3.18</td>\n",
       "      <td>234531</td>\n",
       "    </tr>\n",
       "    <tr>\n",
       "      <th>159</th>\n",
       "      <td>Germany</td>\n",
       "      <td>2020-06-07</td>\n",
       "      <td>301</td>\n",
       "      <td>22</td>\n",
       "      <td>83783945.0</td>\n",
       "      <td>21.453</td>\n",
       "      <td>45229.245</td>\n",
       "      <td>8.0</td>\n",
       "      <td>183979</td>\n",
       "      <td>Italy</td>\n",
       "      <td>270</td>\n",
       "      <td>72</td>\n",
       "      <td>60461828.0</td>\n",
       "      <td>23.021</td>\n",
       "      <td>35220.084</td>\n",
       "      <td>3.18</td>\n",
       "      <td>234801</td>\n",
       "    </tr>\n",
       "    <tr>\n",
       "      <th>160</th>\n",
       "      <td>Germany</td>\n",
       "      <td>2020-06-08</td>\n",
       "      <td>214</td>\n",
       "      <td>6</td>\n",
       "      <td>83783945.0</td>\n",
       "      <td>21.453</td>\n",
       "      <td>45229.245</td>\n",
       "      <td>8.0</td>\n",
       "      <td>184193</td>\n",
       "      <td>Italy</td>\n",
       "      <td>197</td>\n",
       "      <td>53</td>\n",
       "      <td>60461828.0</td>\n",
       "      <td>23.021</td>\n",
       "      <td>35220.084</td>\n",
       "      <td>3.18</td>\n",
       "      <td>234998</td>\n",
       "    </tr>\n",
       "    <tr>\n",
       "      <th>161</th>\n",
       "      <td>Germany</td>\n",
       "      <td>2020-06-09</td>\n",
       "      <td>350</td>\n",
       "      <td>37</td>\n",
       "      <td>83783945.0</td>\n",
       "      <td>21.453</td>\n",
       "      <td>45229.245</td>\n",
       "      <td>8.0</td>\n",
       "      <td>184543</td>\n",
       "      <td>Italy</td>\n",
       "      <td>280</td>\n",
       "      <td>65</td>\n",
       "      <td>60461828.0</td>\n",
       "      <td>23.021</td>\n",
       "      <td>35220.084</td>\n",
       "      <td>3.18</td>\n",
       "      <td>235278</td>\n",
       "    </tr>\n",
       "    <tr>\n",
       "      <th>162</th>\n",
       "      <td>Germany</td>\n",
       "      <td>2020-06-10</td>\n",
       "      <td>318</td>\n",
       "      <td>18</td>\n",
       "      <td>83783945.0</td>\n",
       "      <td>21.453</td>\n",
       "      <td>45229.245</td>\n",
       "      <td>8.0</td>\n",
       "      <td>184861</td>\n",
       "      <td>Italy</td>\n",
       "      <td>283</td>\n",
       "      <td>79</td>\n",
       "      <td>60461828.0</td>\n",
       "      <td>23.021</td>\n",
       "      <td>35220.084</td>\n",
       "      <td>3.18</td>\n",
       "      <td>235561</td>\n",
       "    </tr>\n",
       "  </tbody>\n",
       "</table>\n",
       "<p>163 rows × 17 columns</p>\n",
       "</div>"
      ],
      "text/plain": [
       "    location_x       date  new_cases_x  new_deaths_x  population_x  \\\n",
       "0      Germany 2019-12-31            0             0    83783945.0   \n",
       "1      Germany 2020-01-01            0             0    83783945.0   \n",
       "2      Germany 2020-01-02            0             0    83783945.0   \n",
       "3      Germany 2020-01-03            0             0    83783945.0   \n",
       "4      Germany 2020-01-04            0             0    83783945.0   \n",
       "..         ...        ...          ...           ...           ...   \n",
       "158    Germany 2020-06-06          407            33    83783945.0   \n",
       "159    Germany 2020-06-07          301            22    83783945.0   \n",
       "160    Germany 2020-06-08          214             6    83783945.0   \n",
       "161    Germany 2020-06-09          350            37    83783945.0   \n",
       "162    Germany 2020-06-10          318            18    83783945.0   \n",
       "\n",
       "     aged_65_older_percent_x  gdp_per_capita_x  hospital_beds_per_thousand_x  \\\n",
       "0                     21.453         45229.245                           8.0   \n",
       "1                     21.453         45229.245                           8.0   \n",
       "2                     21.453         45229.245                           8.0   \n",
       "3                     21.453         45229.245                           8.0   \n",
       "4                     21.453         45229.245                           8.0   \n",
       "..                       ...               ...                           ...   \n",
       "158                   21.453         45229.245                           8.0   \n",
       "159                   21.453         45229.245                           8.0   \n",
       "160                   21.453         45229.245                           8.0   \n",
       "161                   21.453         45229.245                           8.0   \n",
       "162                   21.453         45229.245                           8.0   \n",
       "\n",
       "     cumsum_x location_y  new_cases_y  new_deaths_y  population_y  \\\n",
       "0           0      Italy            0             0    60461828.0   \n",
       "1           0      Italy            0             0    60461828.0   \n",
       "2           0      Italy            0             0    60461828.0   \n",
       "3           0      Italy            0             0    60461828.0   \n",
       "4           0      Italy            0             0    60461828.0   \n",
       "..        ...        ...          ...           ...           ...   \n",
       "158    183678      Italy          518            85    60461828.0   \n",
       "159    183979      Italy          270            72    60461828.0   \n",
       "160    184193      Italy          197            53    60461828.0   \n",
       "161    184543      Italy          280            65    60461828.0   \n",
       "162    184861      Italy          283            79    60461828.0   \n",
       "\n",
       "     aged_65_older_percent_y  gdp_per_capita_y  hospital_beds_per_thousand_y  \\\n",
       "0                     23.021         35220.084                          3.18   \n",
       "1                     23.021         35220.084                          3.18   \n",
       "2                     23.021         35220.084                          3.18   \n",
       "3                     23.021         35220.084                          3.18   \n",
       "4                     23.021         35220.084                          3.18   \n",
       "..                       ...               ...                           ...   \n",
       "158                   23.021         35220.084                          3.18   \n",
       "159                   23.021         35220.084                          3.18   \n",
       "160                   23.021         35220.084                          3.18   \n",
       "161                   23.021         35220.084                          3.18   \n",
       "162                   23.021         35220.084                          3.18   \n",
       "\n",
       "     cumsum_y  \n",
       "0           0  \n",
       "1           0  \n",
       "2           0  \n",
       "3           0  \n",
       "4           0  \n",
       "..        ...  \n",
       "158    234531  \n",
       "159    234801  \n",
       "160    234998  \n",
       "161    235278  \n",
       "162    235561  \n",
       "\n",
       "[163 rows x 17 columns]"
      ]
     },
     "execution_count": 77,
     "metadata": {},
     "output_type": "execute_result"
    }
   ],
   "source": [
    "germany_covid_df = covid[covid.location == \"Germany\"]\n",
    "italy_covid_df = covid[covid.location == \"Italy\"]\n",
    "\n",
    "germany_covid_df[\"cumsum\"] = germany_covid_df.new_cases.cumsum()\n",
    "italy_covid_df[\"cumsum\"] = italy_covid_df.new_cases.cumsum()\n",
    "gr_it = pd.merge(germany_covid_df, italy_covid_df, on='date')\n",
    "gr_it"
   ]
  },
  {
   "cell_type": "code",
   "execution_count": 78,
   "id": "5a7ffe64-5600-4000-a8cc-32e696bbca26",
   "metadata": {
    "tags": []
   },
   "outputs": [
    {
     "data": {
      "text/plain": [
       "Timestamp('2020-03-12 00:00:00')"
      ]
     },
     "execution_count": 78,
     "metadata": {},
     "output_type": "execute_result"
    }
   ],
   "source": [
    "gr_it[abs(gr_it.cumsum_x - gr_it.cumsum_y) > 10000]['date'].min()"
   ]
  },
  {
   "cell_type": "markdown",
   "id": "26b8972b-71b7-4a8c-966f-b4f4c5a8f4a1",
   "metadata": {},
   "source": [
    "10. Look at the cumulative number of confirmed cases in Italy between 2020-02-28 and 2020-03-20. Fit an exponential function (y = Ae^(Bx)) to this set to express cumulative cases as a function of days passed, by minimizing squared loss. What is the difference between the exponential curve and the total number of real cases on 2020-03-20?"
   ]
  },
  {
   "cell_type": "code",
   "execution_count": 80,
   "id": "3ca7f5a8-5be2-4b41-99d2-03056fe6f639",
   "metadata": {
    "tags": []
   },
   "outputs": [
    {
     "data": {
      "text/plain": [
       "<Axes: xlabel='date', ylabel='cumsum'>"
      ]
     },
     "execution_count": 80,
     "metadata": {},
     "output_type": "execute_result"
    },
    {
     "data": {
      "image/png": "[encoded data removed]",
      "text/plain": [
       "<Figure size 640x480 with 1 Axes>"
      ]
     },
     "metadata": {},
     "output_type": "display_data"
    }
   ],
   "source": [
    "italy_cumsum_case_in_time_df = italy_covid_df[(italy_covid_df.date >= \"2020-02-28\") & (italy_covid_df.date <= \"2020-03-20\")]\n",
    "sns.lineplot(data=italy_cumsum_case_in_time_df, x='date', y='cumsum')"
   ]
  },
  {
   "cell_type": "code",
   "execution_count": 88,
   "id": "4fb77c69-b982-4f3f-b89e-8ece4059c7e1",
   "metadata": {
    "tags": []
   },
   "outputs": [
    {
     "name": "stdout",
     "output_type": "stream",
     "text": [
      "[2.24520424e-06 6.80040490e+00]\n",
      "898.2109026485551 2.2452042412439063e-06\n",
      "10747      898.210903\n",
      "10748     1090.498866\n",
      "10749     1323.951616\n",
      "10750     1607.381664\n",
      "10751     1951.488092\n",
      "10752     2369.260431\n",
      "10753     2876.468995\n",
      "10754     3492.260188\n",
      "10755     4239.879256\n",
      "10756     5147.547759\n",
      "10757     6249.528897\n",
      "10758     7587.420896\n",
      "10759     9211.727285\n",
      "10760    11183.763329\n",
      "10761    13577.970594\n",
      "10762    16484.727012\n",
      "10763    20013.758520\n",
      "10764    24298.281057\n",
      "10765    29500.029281\n",
      "10766    35815.361815\n",
      "10767    43482.673517\n",
      "10768    52791.394540\n",
      "Name: ts, dtype: float64\n"
     ]
    },
    {
     "name": "stderr",
     "output_type": "stream",
     "text": [
      "C:\\Users\\HITMAN1337X\\AppData\\Local\\Temp\\ipykernel_12204\\624880521.py:1: SettingWithCopyWarning: \n",
      "A value is trying to be set on a copy of a slice from a DataFrame.\n",
      "Try using .loc[row_indexer,col_indexer] = value instead\n",
      "\n",
      "See the caveats in the documentation: https://pandas.pydata.org/pandas-docs/stable/user_guide/indexing.html#returning-a-view-versus-a-copy\n",
      "  italy_cumsum_case_in_time_df['ts'] = italy_cumsum_case_in_time_df.date.astype('int64') // 10**9\n",
      "C:\\Users\\HITMAN1337X\\AppData\\Local\\Temp\\ipykernel_12204\\624880521.py:2: SettingWithCopyWarning: \n",
      "A value is trying to be set on a copy of a slice from a DataFrame.\n",
      "Try using .loc[row_indexer,col_indexer] = value instead\n",
      "\n",
      "See the caveats in the documentation: https://pandas.pydata.org/pandas-docs/stable/user_guide/indexing.html#returning-a-view-versus-a-copy\n",
      "  italy_cumsum_case_in_time_df['ts'] -= italy_cumsum_case_in_time_df['ts'].min()\n"
     ]
    }
   ],
   "source": [
    "italy_cumsum_case_in_time_df['ts'] = italy_cumsum_case_in_time_df.date.astype('int64') // 10**9\n",
    "italy_cumsum_case_in_time_df['ts'] -= italy_cumsum_case_in_time_df['ts'].min()\n",
    "x = italy_cumsum_case_in_time_df['ts']\n",
    "y = italy_cumsum_case_in_time_df['cumsum']\n",
    "p = np.polyfit(x, np.log(y), 1)\n",
    "print(p)\n",
    "# Convert the polynomial back into an exponential\n",
    "a = np.exp(p[1])\n",
    "b = p[0]\n",
    "print(a, b)\n",
    "y_fitted = a * np.exp(b * x)\n",
    "print(y_fitted)"
   ]
  },
  {
   "cell_type": "code",
   "execution_count": 89,
   "id": "b16efe6f-7079-4c72-a186-1a995ae496ab",
   "metadata": {
    "tags": []
   },
   "outputs": [
    {
     "data": {
      "text/plain": [
       "<matplotlib.legend.Legend at 0x1d227a394d0>"
      ]
     },
     "execution_count": 89,
     "metadata": {},
     "output_type": "execute_result"
    },
    {
     "data": {
      "image/png": "[encoded data removed]",
      "text/plain": [
       "<Figure size 640x480 with 1 Axes>"
      ]
     },
     "metadata": {},
     "output_type": "display_data"
    }
   ],
   "source": [
    "ax = plt.axes()\n",
    "ax.scatter(x, y, label='Raw data')\n",
    "ax.plot(x, y_fitted, 'k', label='Fitted curve')\n",
    "ax.set_title('Using polyfit() to fit an exponential function')\n",
    "ax.set_ylabel('y-Values')\n",
    "ax.set_xlabel('x-Values')\n",
    "ax.legend()"
   ]
  },
  {
   "cell_type": "code",
   "execution_count": 90,
   "id": "b80ee608-0fb6-4d7e-ae76-518c3b5abeca",
   "metadata": {
    "tags": []
   },
   "outputs": [
    {
     "data": {
      "text/html": [
       "<div>\n",
       "<style scoped>\n",
       "    .dataframe tbody tr th:only-of-type {\n",
       "        vertical-align: middle;\n",
       "    }\n",
       "\n",
       "    .dataframe tbody tr th {\n",
       "        vertical-align: top;\n",
       "    }\n",
       "\n",
       "    .dataframe thead th {\n",
       "        text-align: right;\n",
       "    }\n",
       "</style>\n",
       "<table border=\"1\" class=\"dataframe\">\n",
       "  <thead>\n",
       "    <tr style=\"text-align: right;\">\n",
       "      <th></th>\n",
       "      <th>location</th>\n",
       "      <th>date</th>\n",
       "      <th>new_cases</th>\n",
       "      <th>new_deaths</th>\n",
       "      <th>population</th>\n",
       "      <th>aged_65_older_percent</th>\n",
       "      <th>gdp_per_capita</th>\n",
       "      <th>hospital_beds_per_thousand</th>\n",
       "      <th>cumsum</th>\n",
       "      <th>ts</th>\n",
       "    </tr>\n",
       "  </thead>\n",
       "  <tbody>\n",
       "    <tr>\n",
       "      <th>10768</th>\n",
       "      <td>Italy</td>\n",
       "      <td>2020-03-20</td>\n",
       "      <td>5322</td>\n",
       "      <td>429</td>\n",
       "      <td>60461828.0</td>\n",
       "      <td>23.021</td>\n",
       "      <td>35220.084</td>\n",
       "      <td>3.18</td>\n",
       "      <td>41035</td>\n",
       "      <td>1814400</td>\n",
       "    </tr>\n",
       "  </tbody>\n",
       "</table>\n",
       "</div>"
      ],
      "text/plain": [
       "      location       date  new_cases  new_deaths  population  \\\n",
       "10768    Italy 2020-03-20       5322         429  60461828.0   \n",
       "\n",
       "       aged_65_older_percent  gdp_per_capita  hospital_beds_per_thousand  \\\n",
       "10768                 23.021       35220.084                        3.18   \n",
       "\n",
       "       cumsum       ts  \n",
       "10768   41035  1814400  "
      ]
     },
     "execution_count": 90,
     "metadata": {},
     "output_type": "execute_result"
    }
   ],
   "source": [
    "italy_data_2020_03_20 = italy_cumsum_case_in_time_df[italy_cumsum_case_in_time_df['date'] == '2020-03-20']\n",
    "italy_data_2020_03_20"
   ]
  },
  {
   "cell_type": "code",
   "execution_count": 91,
   "id": "62dc3bc9-dc35-4a3d-abbe-60f7fe1351cf",
   "metadata": {
    "tags": []
   },
   "outputs": [
    {
     "name": "stdout",
     "output_type": "stream",
     "text": [
      "1814400 41035 52791.39454048472\n",
      "11756.394540484718\n"
     ]
    }
   ],
   "source": [
    "x_test = italy_data_2020_03_20['ts'].item()\n",
    "y_test = italy_data_2020_03_20['cumsum'].item()\n",
    "y_pred = a * np.exp(b * x_test)\n",
    "print(x_test, y_test, y_pred)\n",
    "print(y_pred - y_test)"
   ]
  },
  {
   "cell_type": "markdown",
   "id": "2b54bb1a-8988-44ee-82f1-b0ef2127080b",
   "metadata": {},
   "source": [
    "11. Which country has the 3rd highest death rate? Death rate: total number of death per million inhabitants."
   ]
  },
  {
   "cell_type": "code",
   "execution_count": 93,
   "id": "c17a982a-53c4-42fe-a130-2f30c504d0de",
   "metadata": {
    "tags": []
   },
   "outputs": [
    {
     "data": {
      "text/html": [
       "<div>\n",
       "<style scoped>\n",
       "    .dataframe tbody tr th:only-of-type {\n",
       "        vertical-align: middle;\n",
       "    }\n",
       "\n",
       "    .dataframe tbody tr th {\n",
       "        vertical-align: top;\n",
       "    }\n",
       "\n",
       "    .dataframe thead th {\n",
       "        text-align: right;\n",
       "    }\n",
       "</style>\n",
       "<table border=\"1\" class=\"dataframe\">\n",
       "  <thead>\n",
       "    <tr style=\"text-align: right;\">\n",
       "      <th></th>\n",
       "      <th>new_deaths</th>\n",
       "      <th>population</th>\n",
       "      <th>aged_65_older_percent</th>\n",
       "      <th>death_rate</th>\n",
       "    </tr>\n",
       "    <tr>\n",
       "      <th>location</th>\n",
       "      <th></th>\n",
       "      <th></th>\n",
       "      <th></th>\n",
       "      <th></th>\n",
       "    </tr>\n",
       "  </thead>\n",
       "  <tbody>\n",
       "    <tr>\n",
       "      <th>San Marino</th>\n",
       "      <td>42</td>\n",
       "      <td>33938.0</td>\n",
       "      <td>NaN</td>\n",
       "      <td>1237.550828</td>\n",
       "    </tr>\n",
       "    <tr>\n",
       "      <th>Belgium</th>\n",
       "      <td>9619</td>\n",
       "      <td>11589616.0</td>\n",
       "      <td>18.571</td>\n",
       "      <td>829.967102</td>\n",
       "    </tr>\n",
       "    <tr>\n",
       "      <th>Andorra</th>\n",
       "      <td>51</td>\n",
       "      <td>77265.0</td>\n",
       "      <td>NaN</td>\n",
       "      <td>660.066007</td>\n",
       "    </tr>\n",
       "    <tr>\n",
       "      <th>United Kingdom</th>\n",
       "      <td>40883</td>\n",
       "      <td>67886004.0</td>\n",
       "      <td>18.517</td>\n",
       "      <td>602.230174</td>\n",
       "    </tr>\n",
       "    <tr>\n",
       "      <th>Spain</th>\n",
       "      <td>27136</td>\n",
       "      <td>46754783.0</td>\n",
       "      <td>19.436</td>\n",
       "      <td>580.389818</td>\n",
       "    </tr>\n",
       "    <tr>\n",
       "      <th>...</th>\n",
       "      <td>...</td>\n",
       "      <td>...</td>\n",
       "      <td>...</td>\n",
       "      <td>...</td>\n",
       "    </tr>\n",
       "    <tr>\n",
       "      <th>French Polynesia</th>\n",
       "      <td>0</td>\n",
       "      <td>280904.0</td>\n",
       "      <td>7.775</td>\n",
       "      <td>0.000000</td>\n",
       "    </tr>\n",
       "    <tr>\n",
       "      <th>Fiji</th>\n",
       "      <td>0</td>\n",
       "      <td>896444.0</td>\n",
       "      <td>6.224</td>\n",
       "      <td>0.000000</td>\n",
       "    </tr>\n",
       "    <tr>\n",
       "      <th>Mongolia</th>\n",
       "      <td>0</td>\n",
       "      <td>3278292.0</td>\n",
       "      <td>4.031</td>\n",
       "      <td>0.000000</td>\n",
       "    </tr>\n",
       "    <tr>\n",
       "      <th>Papua New Guinea</th>\n",
       "      <td>0</td>\n",
       "      <td>8947027.0</td>\n",
       "      <td>3.808</td>\n",
       "      <td>0.000000</td>\n",
       "    </tr>\n",
       "    <tr>\n",
       "      <th>International</th>\n",
       "      <td>7</td>\n",
       "      <td>NaN</td>\n",
       "      <td>NaN</td>\n",
       "      <td>NaN</td>\n",
       "    </tr>\n",
       "  </tbody>\n",
       "</table>\n",
       "<p>212 rows × 4 columns</p>\n",
       "</div>"
      ],
      "text/plain": [
       "                  new_deaths  population  aged_65_older_percent   death_rate\n",
       "location                                                                    \n",
       "San Marino                42     33938.0                    NaN  1237.550828\n",
       "Belgium                 9619  11589616.0                 18.571   829.967102\n",
       "Andorra                   51     77265.0                    NaN   660.066007\n",
       "United Kingdom         40883  67886004.0                 18.517   602.230174\n",
       "Spain                  27136  46754783.0                 19.436   580.389818\n",
       "...                      ...         ...                    ...          ...\n",
       "French Polynesia           0    280904.0                  7.775     0.000000\n",
       "Fiji                       0    896444.0                  6.224     0.000000\n",
       "Mongolia                   0   3278292.0                  4.031     0.000000\n",
       "Papua New Guinea           0   8947027.0                  3.808     0.000000\n",
       "International              7         NaN                    NaN          NaN\n",
       "\n",
       "[212 rows x 4 columns]"
      ]
     },
     "execution_count": 93,
     "metadata": {},
     "output_type": "execute_result"
    }
   ],
   "source": [
    "country_death_rate_df = covid.groupby('location').agg({'new_deaths': 'sum', 'population': 'mean', 'aged_65_older_percent': 'first'})\n",
    "country_death_rate_df['death_rate'] = country_death_rate_df['new_deaths'] / country_death_rate_df['population'] * 1000000\n",
    "country_death_rate_df.sort_values(by='death_rate', ascending=False)"
   ]
  },
  {
   "cell_type": "markdown",
   "id": "0a9570df-7cda-4d52-8d8f-e1a05936ea71",
   "metadata": {},
   "source": [
    "12. What is the F1 score of the following statement: Countries, where more than 20% of the population is over 65 years old, have death rates over 50 per million inhabitants. Ignore countries, where any of the neccessary information is missing!"
   ]
  },
  {
   "cell_type": "code",
   "execution_count": 94,
   "id": "091e107a-dbb7-428c-81d5-ca9d6ea8b503",
   "metadata": {
    "tags": []
   },
   "outputs": [
    {
     "data": {
      "text/html": [
       "<div>\n",
       "<style scoped>\n",
       "    .dataframe tbody tr th:only-of-type {\n",
       "        vertical-align: middle;\n",
       "    }\n",
       "\n",
       "    .dataframe tbody tr th {\n",
       "        vertical-align: top;\n",
       "    }\n",
       "\n",
       "    .dataframe thead th {\n",
       "        text-align: right;\n",
       "    }\n",
       "</style>\n",
       "<table border=\"1\" class=\"dataframe\">\n",
       "  <thead>\n",
       "    <tr style=\"text-align: right;\">\n",
       "      <th></th>\n",
       "      <th>new_deaths</th>\n",
       "      <th>population</th>\n",
       "      <th>aged_65_older_percent</th>\n",
       "      <th>death_rate</th>\n",
       "    </tr>\n",
       "    <tr>\n",
       "      <th>location</th>\n",
       "      <th></th>\n",
       "      <th></th>\n",
       "      <th></th>\n",
       "      <th></th>\n",
       "    </tr>\n",
       "  </thead>\n",
       "  <tbody>\n",
       "    <tr>\n",
       "      <th>Afghanistan</th>\n",
       "      <td>384</td>\n",
       "      <td>3.892834e+07</td>\n",
       "      <td>2.581</td>\n",
       "      <td>9.864279</td>\n",
       "    </tr>\n",
       "    <tr>\n",
       "      <th>Albania</th>\n",
       "      <td>34</td>\n",
       "      <td>2.877800e+06</td>\n",
       "      <td>13.188</td>\n",
       "      <td>11.814581</td>\n",
       "    </tr>\n",
       "    <tr>\n",
       "      <th>Algeria</th>\n",
       "      <td>724</td>\n",
       "      <td>4.385104e+07</td>\n",
       "      <td>6.211</td>\n",
       "      <td>16.510440</td>\n",
       "    </tr>\n",
       "    <tr>\n",
       "      <th>Angola</th>\n",
       "      <td>4</td>\n",
       "      <td>3.286627e+07</td>\n",
       "      <td>2.405</td>\n",
       "      <td>0.121705</td>\n",
       "    </tr>\n",
       "    <tr>\n",
       "      <th>Antigua and Barbuda</th>\n",
       "      <td>3</td>\n",
       "      <td>9.792800e+04</td>\n",
       "      <td>6.933</td>\n",
       "      <td>30.634752</td>\n",
       "    </tr>\n",
       "    <tr>\n",
       "      <th>...</th>\n",
       "      <td>...</td>\n",
       "      <td>...</td>\n",
       "      <td>...</td>\n",
       "      <td>...</td>\n",
       "    </tr>\n",
       "    <tr>\n",
       "      <th>Vietnam</th>\n",
       "      <td>0</td>\n",
       "      <td>9.733858e+07</td>\n",
       "      <td>7.150</td>\n",
       "      <td>0.000000</td>\n",
       "    </tr>\n",
       "    <tr>\n",
       "      <th>World</th>\n",
       "      <td>411195</td>\n",
       "      <td>7.794799e+09</td>\n",
       "      <td>8.696</td>\n",
       "      <td>52.752485</td>\n",
       "    </tr>\n",
       "    <tr>\n",
       "      <th>Yemen</th>\n",
       "      <td>127</td>\n",
       "      <td>2.982597e+07</td>\n",
       "      <td>2.922</td>\n",
       "      <td>4.258034</td>\n",
       "    </tr>\n",
       "    <tr>\n",
       "      <th>Zambia</th>\n",
       "      <td>10</td>\n",
       "      <td>1.838396e+07</td>\n",
       "      <td>2.480</td>\n",
       "      <td>0.543953</td>\n",
       "    </tr>\n",
       "    <tr>\n",
       "      <th>Zimbabwe</th>\n",
       "      <td>4</td>\n",
       "      <td>1.486293e+07</td>\n",
       "      <td>2.822</td>\n",
       "      <td>0.269126</td>\n",
       "    </tr>\n",
       "  </tbody>\n",
       "</table>\n",
       "<p>184 rows × 4 columns</p>\n",
       "</div>"
      ],
      "text/plain": [
       "                     new_deaths    population  aged_65_older_percent  \\\n",
       "location                                                               \n",
       "Afghanistan                 384  3.892834e+07                  2.581   \n",
       "Albania                      34  2.877800e+06                 13.188   \n",
       "Algeria                     724  4.385104e+07                  6.211   \n",
       "Angola                        4  3.286627e+07                  2.405   \n",
       "Antigua and Barbuda           3  9.792800e+04                  6.933   \n",
       "...                         ...           ...                    ...   \n",
       "Vietnam                       0  9.733858e+07                  7.150   \n",
       "World                    411195  7.794799e+09                  8.696   \n",
       "Yemen                       127  2.982597e+07                  2.922   \n",
       "Zambia                       10  1.838396e+07                  2.480   \n",
       "Zimbabwe                      4  1.486293e+07                  2.822   \n",
       "\n",
       "                     death_rate  \n",
       "location                         \n",
       "Afghanistan            9.864279  \n",
       "Albania               11.814581  \n",
       "Algeria               16.510440  \n",
       "Angola                 0.121705  \n",
       "Antigua and Barbuda   30.634752  \n",
       "...                         ...  \n",
       "Vietnam                0.000000  \n",
       "World                 52.752485  \n",
       "Yemen                  4.258034  \n",
       "Zambia                 0.543953  \n",
       "Zimbabwe               0.269126  \n",
       "\n",
       "[184 rows x 4 columns]"
      ]
     },
     "execution_count": 94,
     "metadata": {},
     "output_type": "execute_result"
    }
   ],
   "source": [
    "country_death_rate_dropna_df = country_death_rate_df.dropna()\n",
    "country_death_rate_dropna_df"
   ]
  },
  {
   "cell_type": "code",
   "execution_count": 95,
   "id": "de1399c6-3946-478d-a8d5-c2ad6035943e",
   "metadata": {
    "tags": []
   },
   "outputs": [
    {
     "data": {
      "text/html": [
       "<div>\n",
       "<style scoped>\n",
       "    .dataframe tbody tr th:only-of-type {\n",
       "        vertical-align: middle;\n",
       "    }\n",
       "\n",
       "    .dataframe tbody tr th {\n",
       "        vertical-align: top;\n",
       "    }\n",
       "\n",
       "    .dataframe thead th {\n",
       "        text-align: right;\n",
       "    }\n",
       "</style>\n",
       "<table border=\"1\" class=\"dataframe\">\n",
       "  <thead>\n",
       "    <tr style=\"text-align: right;\">\n",
       "      <th></th>\n",
       "      <th>new_deaths</th>\n",
       "      <th>population</th>\n",
       "      <th>aged_65_older_percent</th>\n",
       "      <th>death_rate</th>\n",
       "    </tr>\n",
       "    <tr>\n",
       "      <th>location</th>\n",
       "      <th></th>\n",
       "      <th></th>\n",
       "      <th></th>\n",
       "      <th></th>\n",
       "    </tr>\n",
       "  </thead>\n",
       "  <tbody>\n",
       "    <tr>\n",
       "      <th>Bulgaria</th>\n",
       "      <td>167</td>\n",
       "      <td>6948445.0</td>\n",
       "      <td>20.801</td>\n",
       "      <td>24.034154</td>\n",
       "    </tr>\n",
       "    <tr>\n",
       "      <th>Finland</th>\n",
       "      <td>324</td>\n",
       "      <td>5540718.0</td>\n",
       "      <td>21.228</td>\n",
       "      <td>58.476176</td>\n",
       "    </tr>\n",
       "    <tr>\n",
       "      <th>Germany</th>\n",
       "      <td>8729</td>\n",
       "      <td>83783945.0</td>\n",
       "      <td>21.453</td>\n",
       "      <td>104.184638</td>\n",
       "    </tr>\n",
       "    <tr>\n",
       "      <th>Greece</th>\n",
       "      <td>183</td>\n",
       "      <td>10423056.0</td>\n",
       "      <td>20.396</td>\n",
       "      <td>17.557231</td>\n",
       "    </tr>\n",
       "    <tr>\n",
       "      <th>Italy</th>\n",
       "      <td>34043</td>\n",
       "      <td>60461828.0</td>\n",
       "      <td>23.021</td>\n",
       "      <td>563.049467</td>\n",
       "    </tr>\n",
       "    <tr>\n",
       "      <th>Japan</th>\n",
       "      <td>919</td>\n",
       "      <td>126476458.0</td>\n",
       "      <td>27.049</td>\n",
       "      <td>7.266174</td>\n",
       "    </tr>\n",
       "    <tr>\n",
       "      <th>Portugal</th>\n",
       "      <td>1492</td>\n",
       "      <td>10196707.0</td>\n",
       "      <td>21.502</td>\n",
       "      <td>146.321749</td>\n",
       "    </tr>\n",
       "  </tbody>\n",
       "</table>\n",
       "</div>"
      ],
      "text/plain": [
       "          new_deaths   population  aged_65_older_percent  death_rate\n",
       "location                                                            \n",
       "Bulgaria         167    6948445.0                 20.801   24.034154\n",
       "Finland          324    5540718.0                 21.228   58.476176\n",
       "Germany         8729   83783945.0                 21.453  104.184638\n",
       "Greece           183   10423056.0                 20.396   17.557231\n",
       "Italy          34043   60461828.0                 23.021  563.049467\n",
       "Japan            919  126476458.0                 27.049    7.266174\n",
       "Portugal        1492   10196707.0                 21.502  146.321749"
      ]
     },
     "execution_count": 95,
     "metadata": {},
     "output_type": "execute_result"
    }
   ],
   "source": [
    "country_aged_65_over_20_percent = country_death_rate_dropna_df[country_death_rate_dropna_df.aged_65_older_percent > 20]\n",
    "country_aged_65_over_20_percent"
   ]
  },
  {
   "cell_type": "code",
   "execution_count": 96,
   "id": "daf119e2-fa74-475f-896d-05c5994f7a8f",
   "metadata": {
    "tags": []
   },
   "outputs": [
    {
     "data": {
      "text/html": [
       "<div>\n",
       "<style scoped>\n",
       "    .dataframe tbody tr th:only-of-type {\n",
       "        vertical-align: middle;\n",
       "    }\n",
       "\n",
       "    .dataframe tbody tr th {\n",
       "        vertical-align: top;\n",
       "    }\n",
       "\n",
       "    .dataframe thead th {\n",
       "        text-align: right;\n",
       "    }\n",
       "</style>\n",
       "<table border=\"1\" class=\"dataframe\">\n",
       "  <thead>\n",
       "    <tr style=\"text-align: right;\">\n",
       "      <th></th>\n",
       "      <th>new_deaths</th>\n",
       "      <th>population</th>\n",
       "      <th>aged_65_older_percent</th>\n",
       "      <th>death_rate</th>\n",
       "    </tr>\n",
       "    <tr>\n",
       "      <th>location</th>\n",
       "      <th></th>\n",
       "      <th></th>\n",
       "      <th></th>\n",
       "      <th></th>\n",
       "    </tr>\n",
       "  </thead>\n",
       "  <tbody>\n",
       "    <tr>\n",
       "      <th>Finland</th>\n",
       "      <td>324</td>\n",
       "      <td>5540718.0</td>\n",
       "      <td>21.228</td>\n",
       "      <td>58.476176</td>\n",
       "    </tr>\n",
       "    <tr>\n",
       "      <th>Germany</th>\n",
       "      <td>8729</td>\n",
       "      <td>83783945.0</td>\n",
       "      <td>21.453</td>\n",
       "      <td>104.184638</td>\n",
       "    </tr>\n",
       "    <tr>\n",
       "      <th>Italy</th>\n",
       "      <td>34043</td>\n",
       "      <td>60461828.0</td>\n",
       "      <td>23.021</td>\n",
       "      <td>563.049467</td>\n",
       "    </tr>\n",
       "    <tr>\n",
       "      <th>Portugal</th>\n",
       "      <td>1492</td>\n",
       "      <td>10196707.0</td>\n",
       "      <td>21.502</td>\n",
       "      <td>146.321749</td>\n",
       "    </tr>\n",
       "  </tbody>\n",
       "</table>\n",
       "</div>"
      ],
      "text/plain": [
       "          new_deaths  population  aged_65_older_percent  death_rate\n",
       "location                                                           \n",
       "Finland          324   5540718.0                 21.228   58.476176\n",
       "Germany         8729  83783945.0                 21.453  104.184638\n",
       "Italy          34043  60461828.0                 23.021  563.049467\n",
       "Portugal        1492  10196707.0                 21.502  146.321749"
      ]
     },
     "execution_count": 96,
     "metadata": {},
     "output_type": "execute_result"
    }
   ],
   "source": [
    "country_aged_65_over_20_percent_death_rate_over_50_per_million = country_aged_65_over_20_percent[country_aged_65_over_20_percent.death_rate > 50]\n",
    "country_aged_65_over_20_percent_death_rate_over_50_per_million"
   ]
  },
  {
   "cell_type": "code",
   "execution_count": 97,
   "id": "bc073d9a-4e0d-4d5d-acd8-eeb5f2fd5e51",
   "metadata": {
    "tags": []
   },
   "outputs": [
    {
     "data": {
      "text/plain": [
       "0.7272727272727273"
      ]
     },
     "execution_count": 97,
     "metadata": {},
     "output_type": "execute_result"
    }
   ],
   "source": [
    "from sklearn.metrics import f1_score\n",
    "y_pred = [1] * len(country_aged_65_over_20_percent)\n",
    "y_true = [1] * len(country_aged_65_over_20_percent_death_rate_over_50_per_million) + [0] * (len(country_aged_65_over_20_percent) - len(country_aged_65_over_20_percent_death_rate_over_50_per_million))\n",
    "f1_score(y_true, y_pred)"
   ]
  },
  {
   "cell_type": "markdown",
   "id": "f09959a9-25cc-47f2-8c01-4dcf1f63378b",
   "metadata": {},
   "source": [
    "13. What is the probability that a country has GDP over $10000, if we known that they have at least 5 hospital beds per 1000 inhabitants."
   ]
  },
  {
   "cell_type": "code",
   "execution_count": 101,
   "id": "33a7fdbe-51bf-4728-916e-3654af8f69e8",
   "metadata": {
    "tags": []
   },
   "outputs": [
    {
     "data": {
      "text/html": [
       "<div>\n",
       "<style scoped>\n",
       "    .dataframe tbody tr th:only-of-type {\n",
       "        vertical-align: middle;\n",
       "    }\n",
       "\n",
       "    .dataframe tbody tr th {\n",
       "        vertical-align: top;\n",
       "    }\n",
       "\n",
       "    .dataframe thead th {\n",
       "        text-align: right;\n",
       "    }\n",
       "</style>\n",
       "<table border=\"1\" class=\"dataframe\">\n",
       "  <thead>\n",
       "    <tr style=\"text-align: right;\">\n",
       "      <th></th>\n",
       "      <th>gdp_per_capita</th>\n",
       "      <th>hospital_beds_per_thousand</th>\n",
       "    </tr>\n",
       "    <tr>\n",
       "      <th>location</th>\n",
       "      <th></th>\n",
       "      <th></th>\n",
       "    </tr>\n",
       "  </thead>\n",
       "  <tbody>\n",
       "    <tr>\n",
       "      <th>Afghanistan</th>\n",
       "      <td>1803.987</td>\n",
       "      <td>0.500</td>\n",
       "    </tr>\n",
       "    <tr>\n",
       "      <th>Albania</th>\n",
       "      <td>11803.431</td>\n",
       "      <td>2.890</td>\n",
       "    </tr>\n",
       "    <tr>\n",
       "      <th>Algeria</th>\n",
       "      <td>13913.839</td>\n",
       "      <td>1.900</td>\n",
       "    </tr>\n",
       "    <tr>\n",
       "      <th>Antigua and Barbuda</th>\n",
       "      <td>21490.943</td>\n",
       "      <td>3.800</td>\n",
       "    </tr>\n",
       "    <tr>\n",
       "      <th>Argentina</th>\n",
       "      <td>18933.907</td>\n",
       "      <td>5.000</td>\n",
       "    </tr>\n",
       "    <tr>\n",
       "      <th>...</th>\n",
       "      <td>...</td>\n",
       "      <td>...</td>\n",
       "    </tr>\n",
       "    <tr>\n",
       "      <th>Vietnam</th>\n",
       "      <td>6171.884</td>\n",
       "      <td>2.600</td>\n",
       "    </tr>\n",
       "    <tr>\n",
       "      <th>World</th>\n",
       "      <td>15469.207</td>\n",
       "      <td>2.705</td>\n",
       "    </tr>\n",
       "    <tr>\n",
       "      <th>Yemen</th>\n",
       "      <td>1479.147</td>\n",
       "      <td>0.700</td>\n",
       "    </tr>\n",
       "    <tr>\n",
       "      <th>Zambia</th>\n",
       "      <td>3689.251</td>\n",
       "      <td>2.000</td>\n",
       "    </tr>\n",
       "    <tr>\n",
       "      <th>Zimbabwe</th>\n",
       "      <td>1899.775</td>\n",
       "      <td>1.700</td>\n",
       "    </tr>\n",
       "  </tbody>\n",
       "</table>\n",
       "<p>160 rows × 2 columns</p>\n",
       "</div>"
      ],
      "text/plain": [
       "                     gdp_per_capita  hospital_beds_per_thousand\n",
       "location                                                       \n",
       "Afghanistan                1803.987                       0.500\n",
       "Albania                   11803.431                       2.890\n",
       "Algeria                   13913.839                       1.900\n",
       "Antigua and Barbuda       21490.943                       3.800\n",
       "Argentina                 18933.907                       5.000\n",
       "...                             ...                         ...\n",
       "Vietnam                    6171.884                       2.600\n",
       "World                     15469.207                       2.705\n",
       "Yemen                      1479.147                       0.700\n",
       "Zambia                     3689.251                       2.000\n",
       "Zimbabwe                   1899.775                       1.700\n",
       "\n",
       "[160 rows x 2 columns]"
      ]
     },
     "execution_count": 101,
     "metadata": {},
     "output_type": "execute_result"
    }
   ],
   "source": [
    "gdp_beds_by_country_df = covid.groupby('location')[['gdp_per_capita', 'hospital_beds_per_thousand']].agg('first').dropna()\n",
    "gdp_beds_by_country_df"
   ]
  },
  {
   "cell_type": "code",
   "execution_count": 102,
   "id": "0e04bad5-6b4f-416d-90c3-e8523ba769d7",
   "metadata": {
    "tags": []
   },
   "outputs": [
    {
     "data": {
      "text/plain": [
       "0.8846153846153846"
      ]
     },
     "execution_count": 102,
     "metadata": {},
     "output_type": "execute_result"
    }
   ],
   "source": [
    "country_at_least_5_beds_per_thousand_hospitals = gdp_beds_by_country_df[gdp_beds_by_country_df.hospital_beds_per_thousand >= 5]\n",
    "country_at_least_5_beds_gdp_over_10000 = country_at_least_5_beds_per_thousand_hospitals[country_at_least_5_beds_per_thousand_hospitals.gdp_per_capita > 10000]\n",
    "# country_at_least_5_beds_per_thousand_hospitals\n",
    "len(country_at_least_5_beds_gdp_over_10000)/len(country_at_least_5_beds_per_thousand_hospitals)"
   ]
  },
  {
   "cell_type": "code",
   "execution_count": null,
   "id": "e30bd97a-add6-4696-930d-be765d4886d2",
   "metadata": {},
   "outputs": [],
   "source": []
  }
 ],
 "metadata": {
  "kernelspec": {
   "display_name": "Python 3 (ipykernel)",
   "language": "python",
   "name": "python3"
  },
  "language_info": {
   "codemirror_mode": {
    "name": "ipython",
    "version": 3
   },
   "file_extension": ".py",
   "mimetype": "text/x-python",
   "name": "python",
   "nbconvert_exporter": "python",
   "pygments_lexer": "ipython3",
   "version": "3.11.5"
  }
 },
 "nbformat": 4,
 "nbformat_minor": 5
}
